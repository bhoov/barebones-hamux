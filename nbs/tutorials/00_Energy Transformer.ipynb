{
 "cells": [
  {
   "cell_type": "markdown",
   "id": "77546807-f27b-4e66-bd28-d7a3bf4f43af",
   "metadata": {},
   "source": [
    "# Energy Transformer\n",
    "\n",
    "> HAMUX is a natural framework to represent the energy function of the Energy Transformer"
   ]
  },
  {
   "cell_type": "code",
   "execution_count": null,
   "id": "57c52415-be4e-4023-b090-4639531a3fec",
   "metadata": {},
   "outputs": [],
   "source": []
  }
 ],
 "metadata": {
  "kernelspec": {
   "display_name": "conda-env-mine2-py",
   "language": "python",
   "name": "conda-env-mine2-py"
  }
 },
 "nbformat": 4,
 "nbformat_minor": 5
}
